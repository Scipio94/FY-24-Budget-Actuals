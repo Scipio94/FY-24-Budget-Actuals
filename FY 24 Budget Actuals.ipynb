{
 "cells": [
  {
   "cell_type": "markdown",
   "id": "4a00ee48",
   "metadata": {},
   "source": [
    "# Fiscal Year 2024 Budget Actuals\n",
    "\n",
    "Importing data using the [***tabula-py***](https://pypi.org/project/tabula-py/) package and creating a Sankey diagram using the [***matplotlib.sankey package***](https://matplotlib.org/stable/gallery/specialty_plots/sankey_basics.html)."
   ]
  },
  {
   "cell_type": "code",
   "execution_count": 1,
   "id": "c20f19cc",
   "metadata": {},
   "outputs": [],
   "source": [
    "# importing packages\n",
    "import tabula \n",
    "from tabula import read_pdf\n",
    "import os\n",
    "import pandas as pd\n",
    "import string as str\n",
    "import matplotlib.pyplot as plt\n",
    "from matplotlib.sankey import Sankey"
   ]
  },
  {
   "cell_type": "code",
   "execution_count": 2,
   "id": "c19d321c",
   "metadata": {},
   "outputs": [],
   "source": [
    "# setting JAVA_HOME and PATH variables\n",
    "os.environ['JAVA_HOME'] = '/Users/scipio/Documents/FA_Budget_PDFs/jdk-22.0.2.jdk/Contents/Home'\n",
    "os.environ['PATH'] = '/Users/scipio/Documents/FA_Budget_PDFs/jdk-22.0.2.jdk/Contents/Home/lib/server'"
   ]
  },
  {
   "cell_type": "code",
   "execution_count": 3,
   "id": "fe89a857",
   "metadata": {},
   "outputs": [],
   "source": [
    "# importing data from PDFs\n",
    "df1 = pd.DataFrame(tabula.read_pdf('/Users/scipio/Downloads/FY_24_General_Actuals_PDF.PDF', \n",
    "                             pages = 'all', pandas_options = {'header':None})[0])\n",
    "df2 = pd.DataFrame(tabula.read_pdf('/Users/scipio/Downloads/FY_24_General_Actuals_PDF.PDF', \n",
    "                             pages = 'all', pandas_options = {'header':None})[1])\n",
    "df3 = pd.DataFrame(tabula.read_pdf('/Users/scipio/Downloads/FY_24_General_Actuals_PDF.PDF', \n",
    "                             pages = 'all', pandas_options = {'header':None})[2])\n",
    "df4 = pd.DataFrame(tabula.read_pdf('/Users/scipio/Downloads/FY_24_General_Actuals_PDF.PDF', \n",
    "                             pages = 'all', pandas_options = {'header':None})[3])\n",
    "df5 = pd.DataFrame(tabula.read_pdf('/Users/scipio/Downloads/FY_24_General_Actuals_PDF.PDF', \n",
    "                             pages = 'all', pandas_options = {'header':None})[4])\n",
    "\n",
    "# combining dfs\n",
    "df = pd.concat([df1,df2,df3,df4,df5])"
   ]
  },
  {
   "cell_type": "code",
   "execution_count": 4,
   "id": "8d801e97",
   "metadata": {},
   "outputs": [
    {
     "data": {
      "text/html": [
       "<div>\n",
       "<style scoped>\n",
       "    .dataframe tbody tr th:only-of-type {\n",
       "        vertical-align: middle;\n",
       "    }\n",
       "\n",
       "    .dataframe tbody tr th {\n",
       "        vertical-align: top;\n",
       "    }\n",
       "\n",
       "    .dataframe thead th {\n",
       "        text-align: right;\n",
       "    }\n",
       "</style>\n",
       "<table border=\"1\" class=\"dataframe\">\n",
       "  <thead>\n",
       "    <tr style=\"text-align: right;\">\n",
       "      <th></th>\n",
       "      <th>0</th>\n",
       "      <th>1</th>\n",
       "      <th>2</th>\n",
       "      <th>3</th>\n",
       "      <th>4</th>\n",
       "      <th>5</th>\n",
       "      <th>6</th>\n",
       "      <th>7</th>\n",
       "      <th>8</th>\n",
       "    </tr>\n",
       "  </thead>\n",
       "  <tbody>\n",
       "    <tr>\n",
       "      <th>0</th>\n",
       "      <td>130-100-101-100-043</td>\n",
       "      <td>Teacher Salaries PS</td>\n",
       "      <td>1,249,986.00</td>\n",
       "      <td>(3,052.17)</td>\n",
       "      <td>1,246,933.83</td>\n",
       "      <td>1,246,933.83</td>\n",
       "      <td>0.00</td>\n",
       "      <td>0.00</td>\n",
       "      <td>0.00</td>\n",
       "    </tr>\n",
       "  </tbody>\n",
       "</table>\n",
       "</div>"
      ],
      "text/plain": [
       "                     0                    1             2           3  \\\n",
       "0  130-100-101-100-043  Teacher Salaries PS  1,249,986.00  (3,052.17)   \n",
       "\n",
       "              4             5     6     7     8  \n",
       "0  1,246,933.83  1,246,933.83  0.00  0.00  0.00  "
      ]
     },
     "execution_count": 4,
     "metadata": {},
     "output_type": "execute_result"
    }
   ],
   "source": [
    "df.head(1)"
   ]
  },
  {
   "cell_type": "code",
   "execution_count": 5,
   "id": "c531d52e",
   "metadata": {},
   "outputs": [
    {
     "name": "stdout",
     "output_type": "stream",
     "text": [
      "<class 'pandas.core.frame.DataFrame'>\n",
      "Int64Index: 191 entries, 0 to 7\n",
      "Data columns (total 9 columns):\n",
      " #   Column  Non-Null Count  Dtype \n",
      "---  ------  --------------  ----- \n",
      " 0   0       191 non-null    object\n",
      " 1   1       53 non-null     object\n",
      " 2   2       191 non-null    object\n",
      " 3   3       191 non-null    object\n",
      " 4   4       191 non-null    object\n",
      " 5   5       191 non-null    object\n",
      " 6   6       191 non-null    object\n",
      " 7   7       191 non-null    object\n",
      " 8   8       191 non-null    object\n",
      "dtypes: object(9)\n",
      "memory usage: 14.9+ KB\n"
     ]
    }
   ],
   "source": [
    "df.info()"
   ]
  },
  {
   "cell_type": "code",
   "execution_count": 6,
   "id": "52ef55dc",
   "metadata": {},
   "outputs": [
    {
     "data": {
      "text/html": [
       "<div>\n",
       "<style scoped>\n",
       "    .dataframe tbody tr th:only-of-type {\n",
       "        vertical-align: middle;\n",
       "    }\n",
       "\n",
       "    .dataframe tbody tr th {\n",
       "        vertical-align: top;\n",
       "    }\n",
       "\n",
       "    .dataframe thead th {\n",
       "        text-align: right;\n",
       "    }\n",
       "</style>\n",
       "<table border=\"1\" class=\"dataframe\">\n",
       "  <thead>\n",
       "    <tr style=\"text-align: right;\">\n",
       "      <th></th>\n",
       "      <th>Expend. Account #</th>\n",
       "      <th>Account Title</th>\n",
       "      <th>Original Budget</th>\n",
       "      <th>New App/Trnsf</th>\n",
       "      <th>Revised Bgt</th>\n",
       "      <th>Expenditures</th>\n",
       "      <th>Encumbrances</th>\n",
       "      <th>Avail Balance</th>\n",
       "      <th>Refunds</th>\n",
       "    </tr>\n",
       "  </thead>\n",
       "  <tbody>\n",
       "    <tr>\n",
       "      <th>0</th>\n",
       "      <td>130-100-101-100-043</td>\n",
       "      <td>Teacher Salaries PS</td>\n",
       "      <td>1,249,986.00</td>\n",
       "      <td>(3,052.17)</td>\n",
       "      <td>1,246,933.83</td>\n",
       "      <td>1,246,933.83</td>\n",
       "      <td>0.00</td>\n",
       "      <td>0.00</td>\n",
       "      <td>0.00</td>\n",
       "    </tr>\n",
       "  </tbody>\n",
       "</table>\n",
       "</div>"
      ],
      "text/plain": [
       "     Expend. Account #        Account Title Original Budget New App/Trnsf  \\\n",
       "0  130-100-101-100-043  Teacher Salaries PS    1,249,986.00    (3,052.17)   \n",
       "\n",
       "    Revised Bgt  Expenditures Encumbrances Avail Balance Refunds  \n",
       "0  1,246,933.83  1,246,933.83         0.00          0.00    0.00  "
      ]
     },
     "execution_count": 6,
     "metadata": {},
     "output_type": "execute_result"
    }
   ],
   "source": [
    "# creating rename object to rename columns\n",
    "rename = {\n",
    "    0:'Expend. Account #',\n",
    "    1:'Account Title',\n",
    "    2:'Original Budget',\n",
    "    3:'New App/Trnsf',\n",
    "    4:'Revised Bgt',\n",
    "    5:'Expenditures',\n",
    "    6:'Encumbrances',\n",
    "    7:'Avail Balance',\n",
    "    8:'Refunds'\n",
    "}\n",
    "\n",
    "# renaming columns\n",
    "df.rename(columns = rename, inplace = True)\n",
    "\n",
    "df.head(1)"
   ]
  },
  {
   "cell_type": "code",
   "execution_count": 7,
   "id": "5799f819",
   "metadata": {},
   "outputs": [],
   "source": [
    "# data cleaning\n",
    "df['Expenditures'] = df['Expenditures'].str.replace(',','').astype('float') #--> casting column as float"
   ]
  },
  {
   "cell_type": "code",
   "execution_count": 8,
   "id": "31e39ff2",
   "metadata": {},
   "outputs": [],
   "source": [
    "# creating campus column\n",
    "df['Campus'] = df['Expend. Account #'].str.split('-').str[3]\n",
    "\n",
    "# data cleaning\n",
    "def agg_campus(row):\n",
    "    if row['Campus'] in ['100','101']:\n",
    "        return 100\n",
    "    elif row['Campus'] in ['200','201']:\n",
    "        return 200\n",
    "    elif row['Campus'] in ['300','301']:\n",
    "        return 300\n",
    "    elif row['Campus'] in ['500','501']:\n",
    "        return 500\n",
    "    else:\n",
    "        return row['Campus']\n",
    "\n",
    "df['Campus_Agg'] = df.apply(agg_campus, axis = 1)"
   ]
  },
  {
   "cell_type": "code",
   "execution_count": 9,
   "id": "819c3445",
   "metadata": {},
   "outputs": [],
   "source": [
    "# aggregating actuals based on campus\n",
    "fy_24_actuals = df.groupby('Campus_Agg')['Expenditures'].sum().reset_index()\n",
    "\n",
    "# finding percentage of expenditures for each campus\n",
    "fy_24_actuals['%'] = round(fy_24_actuals['Expenditures']/fy_24_actuals['Expenditures'].sum(),2)"
   ]
  },
  {
   "cell_type": "code",
   "execution_count": 10,
   "id": "c7cccd40",
   "metadata": {
    "scrolled": true
   },
   "outputs": [
    {
     "name": "stdout",
     "output_type": "stream",
     "text": [
      "The expenditures for fiscal year 2024 was $19,529,428.44\n"
     ]
    }
   ],
   "source": [
    "print(\"The expenditures for fiscal year 2024 was\",f\"${fy_24_actuals['Expenditures'].sum():,}\")"
   ]
  },
  {
   "cell_type": "code",
   "execution_count": 115,
   "id": "2e0d239c",
   "metadata": {},
   "outputs": [],
   "source": [
    "# data cleaning\n",
    "fy_24_actuals['%'] = round(fy_24_actuals['Expenditures']/fy_24_actuals['Expenditures'].sum(),2) #--> finding percentage\n",
    "\n",
    "fy_24_actuals['Expenditures'] = round(fy_24_actuals['Expenditures'],3).apply(lambda x: f'${x:,}') #--> adding comma separator"
   ]
  },
  {
   "cell_type": "code",
   "execution_count": 116,
   "id": "929ac034",
   "metadata": {},
   "outputs": [
    {
     "data": {
      "text/html": [
       "<div>\n",
       "<style scoped>\n",
       "    .dataframe tbody tr th:only-of-type {\n",
       "        vertical-align: middle;\n",
       "    }\n",
       "\n",
       "    .dataframe tbody tr th {\n",
       "        vertical-align: top;\n",
       "    }\n",
       "\n",
       "    .dataframe thead th {\n",
       "        text-align: right;\n",
       "    }\n",
       "</style>\n",
       "<table border=\"1\" class=\"dataframe\">\n",
       "  <thead>\n",
       "    <tr style=\"text-align: right;\">\n",
       "      <th></th>\n",
       "      <th>Campus_Agg</th>\n",
       "      <th>Expenditures</th>\n",
       "      <th>%</th>\n",
       "    </tr>\n",
       "  </thead>\n",
       "  <tbody>\n",
       "    <tr>\n",
       "      <th>0</th>\n",
       "      <td>100</td>\n",
       "      <td>$1,834,405.69</td>\n",
       "      <td>0.09</td>\n",
       "    </tr>\n",
       "    <tr>\n",
       "      <th>1</th>\n",
       "      <td>200</td>\n",
       "      <td>$1,397,904.33</td>\n",
       "      <td>0.07</td>\n",
       "    </tr>\n",
       "    <tr>\n",
       "      <th>2</th>\n",
       "      <td>300</td>\n",
       "      <td>$2,095,660.48</td>\n",
       "      <td>0.11</td>\n",
       "    </tr>\n",
       "    <tr>\n",
       "      <th>3</th>\n",
       "      <td>500</td>\n",
       "      <td>$2,827,902.3</td>\n",
       "      <td>0.14</td>\n",
       "    </tr>\n",
       "    <tr>\n",
       "      <th>4</th>\n",
       "      <td>000</td>\n",
       "      <td>$11,373,555.64</td>\n",
       "      <td>0.58</td>\n",
       "    </tr>\n",
       "  </tbody>\n",
       "</table>\n",
       "</div>"
      ],
      "text/plain": [
       "  Campus_Agg    Expenditures     %\n",
       "0        100   $1,834,405.69  0.09\n",
       "1        200   $1,397,904.33  0.07\n",
       "2        300   $2,095,660.48  0.11\n",
       "3        500    $2,827,902.3  0.14\n",
       "4        000  $11,373,555.64  0.58"
      ]
     },
     "execution_count": 116,
     "metadata": {},
     "output_type": "execute_result"
    }
   ],
   "source": [
    "# displaying data\n",
    "fy_24_actuals"
   ]
  },
  {
   "cell_type": "code",
   "execution_count": 142,
   "id": "7afd4ca8",
   "metadata": {},
   "outputs": [
    {
     "data": {
      "image/png": "[encoded data removed]",
      "text/plain": [
       "<Figure size 640x480 with 1 Axes>"
      ]
     },
     "metadata": {},
     "output_type": "display_data"
    },
    {
     "data": {
      "text/plain": [
       "<Figure size 1500x1500 with 0 Axes>"
      ]
     },
     "metadata": {},
     "output_type": "display_data"
    }
   ],
   "source": [
    "# Creating Sankey Diagram\n",
    "\n",
    "Sankey(\n",
    "    flows = [19.52,-1.39,-1.83,-2.10,-2.82,-11.37], #--> data\n",
    "    labels = ['Total','(IS)','(PS)','(MS)','(HS)','(HO)'], #--> labels\n",
    "    scale = 0.03, #--> scaling factor for flow paths\n",
    "    orientations = [0,1,1,1,1,-1],#--> orientation of the flow arrows\n",
    "      ).finish()\n",
    "\n",
    "plt.title('FY 24 Campus Actuals (Millions)') #--> title\n",
    "plt.figure(figsize = (15,15))\n",
    "\n",
    "# displaying plot\n",
    "plt.show()"
   ]
  }
 ],
 "metadata": {
  "kernelspec": {
   "display_name": "Python 3 (ipykernel)",
   "language": "python",
   "name": "python3"
  },
  "language_info": {
   "codemirror_mode": {
    "name": "ipython",
    "version": 3
   },
   "file_extension": ".py",
   "mimetype": "text/x-python",
   "name": "python",
   "nbconvert_exporter": "python",
   "pygments_lexer": "ipython3",
   "version": "3.10.9"
  }
 },
 "nbformat": 4,
 "nbformat_minor": 5
}
